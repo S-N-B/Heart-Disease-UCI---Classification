{
 "cells": [
  {
   "cell_type": "code",
   "execution_count": 1,
   "metadata": {
    "_cell_guid": "b1076dfc-b9ad-4769-8c92-a6c4dae69d19",
    "_uuid": "8f2839f25d086af736a60e9eeb907d3b93b6e0e5"
   },
   "outputs": [],
   "source": [
    "import numpy as np\n",
    "import pandas as pd\n",
    "from sklearn.metrics import confusion_matrix, accuracy_score\n",
    "\n",
    "dataset = pd.read_csv('../input/heart.csv')\n",
    "X = dataset.iloc[:,:-1].values\n",
    "y = dataset.iloc[:,-1].values\n"
   ]
  },
  {
   "cell_type": "code",
   "execution_count": 2,
   "metadata": {
    "_cell_guid": "79c7e3d0-c299-4dcb-8224-4455121ee9b0",
    "_uuid": "d629ff2d2480ee46fbb7e2d37f6b5fab8052498a"
   },
   "outputs": [
    {
     "name": "stderr",
     "output_type": "stream",
     "text": [
      "/opt/conda/lib/python3.6/site-packages/sklearn/preprocessing/_encoders.py:368: FutureWarning: The handling of integer data will change in version 0.22. Currently, the categories are determined based on the range [0, max(values)], while in the future they will be determined based on the unique values.\n",
      "If you want the future behaviour and silence this warning, you can specify \"categories='auto'\".\n",
      "In case you used a LabelEncoder before this OneHotEncoder to convert the categories to integers, then you can now use the OneHotEncoder directly.\n",
      "  warnings.warn(msg, FutureWarning)\n",
      "/opt/conda/lib/python3.6/site-packages/sklearn/preprocessing/_encoders.py:390: DeprecationWarning: The 'categorical_features' keyword is deprecated in version 0.20 and will be removed in 0.22. You can use the ColumnTransformer instead.\n",
      "  \"use the ColumnTransformer instead.\", DeprecationWarning)\n",
      "/opt/conda/lib/python3.6/site-packages/sklearn/preprocessing/_encoders.py:368: FutureWarning: The handling of integer data will change in version 0.22. Currently, the categories are determined based on the range [0, max(values)], while in the future they will be determined based on the unique values.\n",
      "If you want the future behaviour and silence this warning, you can specify \"categories='auto'\".\n",
      "In case you used a LabelEncoder before this OneHotEncoder to convert the categories to integers, then you can now use the OneHotEncoder directly.\n",
      "  warnings.warn(msg, FutureWarning)\n",
      "/opt/conda/lib/python3.6/site-packages/sklearn/preprocessing/_encoders.py:390: DeprecationWarning: The 'categorical_features' keyword is deprecated in version 0.20 and will be removed in 0.22. You can use the ColumnTransformer instead.\n",
      "  \"use the ColumnTransformer instead.\", DeprecationWarning)\n",
      "/opt/conda/lib/python3.6/site-packages/sklearn/preprocessing/_encoders.py:368: FutureWarning: The handling of integer data will change in version 0.22. Currently, the categories are determined based on the range [0, max(values)], while in the future they will be determined based on the unique values.\n",
      "If you want the future behaviour and silence this warning, you can specify \"categories='auto'\".\n",
      "In case you used a LabelEncoder before this OneHotEncoder to convert the categories to integers, then you can now use the OneHotEncoder directly.\n",
      "  warnings.warn(msg, FutureWarning)\n",
      "/opt/conda/lib/python3.6/site-packages/sklearn/preprocessing/_encoders.py:390: DeprecationWarning: The 'categorical_features' keyword is deprecated in version 0.20 and will be removed in 0.22. You can use the ColumnTransformer instead.\n",
      "  \"use the ColumnTransformer instead.\", DeprecationWarning)\n",
      "/opt/conda/lib/python3.6/site-packages/sklearn/preprocessing/_encoders.py:368: FutureWarning: The handling of integer data will change in version 0.22. Currently, the categories are determined based on the range [0, max(values)], while in the future they will be determined based on the unique values.\n",
      "If you want the future behaviour and silence this warning, you can specify \"categories='auto'\".\n",
      "In case you used a LabelEncoder before this OneHotEncoder to convert the categories to integers, then you can now use the OneHotEncoder directly.\n",
      "  warnings.warn(msg, FutureWarning)\n",
      "/opt/conda/lib/python3.6/site-packages/sklearn/preprocessing/_encoders.py:390: DeprecationWarning: The 'categorical_features' keyword is deprecated in version 0.20 and will be removed in 0.22. You can use the ColumnTransformer instead.\n",
      "  \"use the ColumnTransformer instead.\", DeprecationWarning)\n",
      "/opt/conda/lib/python3.6/site-packages/sklearn/preprocessing/_encoders.py:368: FutureWarning: The handling of integer data will change in version 0.22. Currently, the categories are determined based on the range [0, max(values)], while in the future they will be determined based on the unique values.\n",
      "If you want the future behaviour and silence this warning, you can specify \"categories='auto'\".\n",
      "In case you used a LabelEncoder before this OneHotEncoder to convert the categories to integers, then you can now use the OneHotEncoder directly.\n",
      "  warnings.warn(msg, FutureWarning)\n",
      "/opt/conda/lib/python3.6/site-packages/sklearn/preprocessing/_encoders.py:390: DeprecationWarning: The 'categorical_features' keyword is deprecated in version 0.20 and will be removed in 0.22. You can use the ColumnTransformer instead.\n",
      "  \"use the ColumnTransformer instead.\", DeprecationWarning)\n"
     ]
    }
   ],
   "source": [
    "#Encoding Categorical Data\n",
    "from sklearn.preprocessing import OneHotEncoder\n",
    "#cp\n",
    "oneHotEncoder = OneHotEncoder(categorical_features=[2], n_values='auto')\n",
    "oneHotEncoder.fit(X)\n",
    "X = oneHotEncoder.transform(X).toarray()\n",
    "X = X[:, 1:]\n",
    "#restecg\n",
    "oneHotEncoder = OneHotEncoder(categorical_features=[8], n_values='auto')\n",
    "oneHotEncoder.fit(X)\n",
    "X = oneHotEncoder.transform(X).toarray()\n",
    "X = X[:, 1:]\n",
    "#slope\n",
    "oneHotEncoder = OneHotEncoder(categorical_features=[13], n_values='auto')\n",
    "oneHotEncoder.fit(X)\n",
    "X = oneHotEncoder.transform(X).toarray()\n",
    "X = X[:, 1:]\n",
    "#ca\n",
    "oneHotEncoder = OneHotEncoder(categorical_features=[15], n_values='auto')\n",
    "oneHotEncoder.fit(X)\n",
    "X = oneHotEncoder.transform(X).toarray()\n",
    "X = X[:, 1:]\n",
    "#thal\n",
    "oneHotEncoder = OneHotEncoder(categorical_features=[19], n_values='auto')\n",
    "oneHotEncoder.fit(X)\n",
    "X = oneHotEncoder.transform(X).toarray()\n",
    "X = X[:, 1:]\n",
    "\n",
    "from sklearn.preprocessing import StandardScaler\n",
    "scalerX = StandardScaler()\n",
    "X = scalerX.fit_transform(X)"
   ]
  },
  {
   "cell_type": "code",
   "execution_count": 3,
   "metadata": {
    "_uuid": "51c565e5ea7497a5d342dc99b3c3ad9e2e8bb62d"
   },
   "outputs": [],
   "source": [
    "from sklearn.model_selection import train_test_split\n",
    "XTrain, XTest, yTrain, yTest = train_test_split(X, y, test_size=0.3, random_state=0)"
   ]
  },
  {
   "cell_type": "code",
   "execution_count": 4,
   "metadata": {
    "_uuid": "2917d79d61f40c21f5b33473c20a9ad2bc298005"
   },
   "outputs": [
    {
     "name": "stdout",
     "output_type": "stream",
     "text": [
      "Logistic Regression :\n",
      "Accuracy =  0.8461538461538461\n",
      "[[34 10]\n",
      " [ 4 43]]\n"
     ]
    },
    {
     "name": "stderr",
     "output_type": "stream",
     "text": [
      "/opt/conda/lib/python3.6/site-packages/sklearn/linear_model/logistic.py:433: FutureWarning: Default solver will be changed to 'lbfgs' in 0.22. Specify a solver to silence this warning.\n",
      "  FutureWarning)\n"
     ]
    }
   ],
   "source": [
    "#Logistic Regression\n",
    "from sklearn.linear_model import LogisticRegression\n",
    "classifier = LogisticRegression()\n",
    "classifier.fit(XTrain,yTrain)\n",
    "yPred = classifier.predict(XTest)\n",
    "cm = confusion_matrix(yTest,yPred)\n",
    "accuracy = accuracy_score(yTest,yPred)\n",
    "print(\"Logistic Regression :\")\n",
    "print(\"Accuracy = \", accuracy)\n",
    "print(cm)"
   ]
  },
  {
   "cell_type": "code",
   "execution_count": 5,
   "metadata": {
    "_uuid": "6a101aec406cdd28b678b7b517adb1e37654d9de"
   },
   "outputs": [
    {
     "name": "stdout",
     "output_type": "stream",
     "text": [
      "K Nearest Neighbors :\n",
      "Accuracy =  0.8131868131868132\n",
      "[[32 12]\n",
      " [ 5 42]]\n"
     ]
    }
   ],
   "source": [
    "#K Nearest Neighbors\n",
    "from sklearn.neighbors import KNeighborsClassifier\n",
    "classifier = KNeighborsClassifier(n_neighbors=5, p=2, metric='minkowski')\n",
    "classifier.fit(XTrain,yTrain)\n",
    "yPred = classifier.predict(XTest)\n",
    "cm = confusion_matrix(yTest,yPred)\n",
    "accuracy = accuracy_score(yTest,yPred)\n",
    "print(\"K Nearest Neighbors :\")\n",
    "print(\"Accuracy = \", accuracy)\n",
    "print(cm)"
   ]
  },
  {
   "cell_type": "code",
   "execution_count": 6,
   "metadata": {
    "_uuid": "be1be4d3f2179b081b732f6455382a55af326f47"
   },
   "outputs": [
    {
     "name": "stdout",
     "output_type": "stream",
     "text": [
      "Support Vector Machine :\n",
      "Accuracy =  0.8571428571428571\n",
      "[[35  9]\n",
      " [ 4 43]]\n"
     ]
    }
   ],
   "source": [
    "#Support Vector Machine\n",
    "from sklearn.svm import SVC\n",
    "classifier = SVC(kernel='linear',random_state=0)\n",
    "classifier.fit(XTrain,yTrain)\n",
    "yPred = classifier.predict(XTest)\n",
    "cm = confusion_matrix(yTest,yPred)\n",
    "accuracy = accuracy_score(yTest,yPred)\n",
    "print(\"Support Vector Machine :\")\n",
    "print(\"Accuracy = \", accuracy)\n",
    "print(cm)"
   ]
  },
  {
   "cell_type": "code",
   "execution_count": 7,
   "metadata": {
    "_uuid": "31714aef9930f2b6340a17d18f51c6ed890f2721"
   },
   "outputs": [
    {
     "name": "stdout",
     "output_type": "stream",
     "text": [
      "Gaussian Naive Bayes :\n",
      "Accuracy =  0.8131868131868132\n",
      "[[33 11]\n",
      " [ 6 41]]\n"
     ]
    }
   ],
   "source": [
    "#Gaussian Naive Bayes\n",
    "from sklearn.naive_bayes import GaussianNB\n",
    "classifier = GaussianNB()\n",
    "classifier.fit(XTrain,yTrain)\n",
    "yPred = classifier.predict(XTest)\n",
    "cm = confusion_matrix(yTest,yPred)\n",
    "accuracy = accuracy_score(yTest,yPred)\n",
    "print(\"Gaussian Naive Bayes :\")\n",
    "print(\"Accuracy = \", accuracy)\n",
    "print(cm)"
   ]
  },
  {
   "cell_type": "code",
   "execution_count": 8,
   "metadata": {
    "_uuid": "84bc0824c8336717679ff0c908dcfbcd5520b20e"
   },
   "outputs": [
    {
     "name": "stdout",
     "output_type": "stream",
     "text": [
      "Decision Tree Classifier :\n",
      "Accuracy =  0.6813186813186813\n",
      "[[31 13]\n",
      " [16 31]]\n"
     ]
    }
   ],
   "source": [
    "#Decision Tree Classifier\n",
    "from sklearn.tree import DecisionTreeClassifier as DT\n",
    "classifier = DT(criterion='entropy', random_state=0)\n",
    "classifier.fit(XTrain,yTrain)\n",
    "yPred = classifier.predict(XTest)\n",
    "cm = confusion_matrix(yTest,yPred)\n",
    "accuracy = accuracy_score(yTest,yPred)\n",
    "print(\"Decision Tree Classifier :\")\n",
    "print(\"Accuracy = \", accuracy)\n",
    "print(cm)"
   ]
  },
  {
   "cell_type": "code",
   "execution_count": 9,
   "metadata": {
    "_uuid": "a9b5cdb0d068cae4e59e6fc0141fddd07fc12aa0"
   },
   "outputs": [
    {
     "name": "stdout",
     "output_type": "stream",
     "text": [
      "Random Forest Classifier :\n",
      "Accuracy =  0.8241758241758241\n",
      "[[34 10]\n",
      " [ 6 41]]\n"
     ]
    }
   ],
   "source": [
    "#Random Forest Classifier\n",
    "from sklearn.ensemble import RandomForestClassifier as RF\n",
    "classifier = RF(n_estimators=10, criterion='entropy', random_state=0)\n",
    "classifier.fit(XTrain,yTrain)\n",
    "yPred = classifier.predict(XTest)\n",
    "cm = confusion_matrix(yTest,yPred)\n",
    "accuracy = accuracy_score(yTest,yPred)\n",
    "print(\"Random Forest Classifier :\")\n",
    "print(\"Accuracy = \", accuracy)\n",
    "print(cm)\n"
   ]
  },
  {
   "cell_type": "code",
   "execution_count": 10,
   "metadata": {
    "_uuid": "8e362e3db01bb25bde91ee2a9c19918048a315b4"
   },
   "outputs": [
    {
     "name": "stderr",
     "output_type": "stream",
     "text": [
      "Using TensorFlow backend.\n"
     ]
    },
    {
     "name": "stdout",
     "output_type": "stream",
     "text": [
      "_________________________________________________________________\n",
      "Layer (type)                 Output Shape              Param #   \n",
      "=================================================================\n",
      "dense_1 (Dense)              (None, 12)                276       \n",
      "_________________________________________________________________\n",
      "dense_2 (Dense)              (None, 12)                156       \n",
      "_________________________________________________________________\n",
      "dense_3 (Dense)              (None, 1)                 13        \n",
      "=================================================================\n",
      "Total params: 445\n",
      "Trainable params: 445\n",
      "Non-trainable params: 0\n",
      "_________________________________________________________________\n",
      "None\n",
      "Epoch 1/20\n",
      "212/212 [==============================] - 1s 3ms/step - loss: 0.6907 - acc: 0.5566\n",
      "Epoch 2/20\n",
      "212/212 [==============================] - 0s 388us/step - loss: 0.6616 - acc: 0.5802\n",
      "Epoch 3/20\n",
      "212/212 [==============================] - 0s 356us/step - loss: 0.5603 - acc: 0.8443\n",
      "Epoch 4/20\n",
      "212/212 [==============================] - 0s 355us/step - loss: 0.4805 - acc: 0.8491\n",
      "Epoch 5/20\n",
      "212/212 [==============================] - 0s 358us/step - loss: 0.4330 - acc: 0.8538\n",
      "Epoch 6/20\n",
      "212/212 [==============================] - 0s 375us/step - loss: 0.3945 - acc: 0.8396\n",
      "Epoch 7/20\n",
      "212/212 [==============================] - 0s 351us/step - loss: 0.3572 - acc: 0.8443\n",
      "Epoch 8/20\n",
      "212/212 [==============================] - 0s 373us/step - loss: 0.3349 - acc: 0.8491\n",
      "Epoch 9/20\n",
      "212/212 [==============================] - 0s 379us/step - loss: 0.3212 - acc: 0.8585\n",
      "Epoch 10/20\n",
      "212/212 [==============================] - 0s 394us/step - loss: 0.3110 - acc: 0.8726\n",
      "Epoch 11/20\n",
      "212/212 [==============================] - 0s 390us/step - loss: 0.3014 - acc: 0.8821\n",
      "Epoch 12/20\n",
      "212/212 [==============================] - 0s 372us/step - loss: 0.2952 - acc: 0.8868\n",
      "Epoch 13/20\n",
      "212/212 [==============================] - 0s 356us/step - loss: 0.2870 - acc: 0.8868\n",
      "Epoch 14/20\n",
      "212/212 [==============================] - 0s 375us/step - loss: 0.2818 - acc: 0.8915\n",
      "Epoch 15/20\n",
      "212/212 [==============================] - 0s 372us/step - loss: 0.2782 - acc: 0.9009\n",
      "Epoch 16/20\n",
      "212/212 [==============================] - 0s 337us/step - loss: 0.2726 - acc: 0.8962\n",
      "Epoch 17/20\n",
      "212/212 [==============================] - 0s 341us/step - loss: 0.2706 - acc: 0.9009\n",
      "Epoch 18/20\n",
      "212/212 [==============================] - 0s 375us/step - loss: 0.2647 - acc: 0.8915\n",
      "Epoch 19/20\n",
      "212/212 [==============================] - 0s 363us/step - loss: 0.2616 - acc: 0.8962\n",
      "Epoch 20/20\n",
      "212/212 [==============================] - 0s 387us/step - loss: 0.2583 - acc: 0.8962\n"
     ]
    },
    {
     "data": {
      "image/png": "[encoded data removed]",
      "text/plain": [
       "<Figure size 432x288 with 1 Axes>"
      ]
     },
     "metadata": {},
     "output_type": "display_data"
    },
    {
     "name": "stdout",
     "output_type": "stream",
     "text": [
      "Artificial Neural Network Classifier :\n",
      "Accuracy =  0.8571428571428571\n",
      "[[35  9]\n",
      " [ 4 43]]\n"
     ]
    }
   ],
   "source": [
    "#Artificial Neural Network\n",
    "from keras.models import Sequential\n",
    "from keras.layers import Dense\n",
    "\n",
    "#Initialising ANN\n",
    "classifier = Sequential()\n",
    "\n",
    "#Adding the first hidden layer or the input layer\n",
    "classifier.add(Dense(activation='relu',\n",
    "                     kernel_initializer='uniform',\n",
    "                     input_dim=22,\n",
    "                     units=12))\n",
    "#Adding the second hidden layer\n",
    "classifier.add(Dense(activation='relu',\n",
    "                     kernel_initializer='uniform',\n",
    "                     units=12))\n",
    "#Adding the output layer\n",
    "classifier.add(Dense(activation='sigmoid',\n",
    "                     kernel_initializer='uniform',\n",
    "                     units=1))\n",
    "\n",
    "#Compiling the ANN\n",
    "classifier.compile(optimizer='adam', loss='binary_crossentropy', metrics=['accuracy'])\n",
    "print(classifier.summary())\n",
    "\n",
    "#Fitting the ANN\n",
    "history = classifier.fit(XTrain, yTrain, batch_size=5, epochs=20, verbose=1)\n",
    "from matplotlib import pyplot as plt\n",
    "plt.plot(history.history['acc'],'green')\n",
    "plt.plot(history.history['loss'],'red')\n",
    "plt.title('Model Accuracy-Loss')\n",
    "plt.xlabel('Epoch')\n",
    "plt.legend(['Accuracy','Loss'])\n",
    "plt.show()\n",
    "\n",
    "#Predicting the Test set Results\n",
    "yPred = classifier.predict(XTest)\n",
    "yPred = (yPred>0.5) #Since output is probability\n",
    "cm = confusion_matrix(yTest,yPred)\n",
    "accuracy = accuracy_score(yTest,yPred)\n",
    "print(\"Artificial Neural Network Classifier :\")\n",
    "print(\"Accuracy = \", accuracy)\n",
    "print(cm)\n"
   ]
  }
 ],
 "metadata": {
  "kernelspec": {
   "display_name": "Python 3",
   "language": "python",
   "name": "python3"
  },
  "language_info": {
   "codemirror_mode": {
    "name": "ipython",
    "version": 3
   },
   "file_extension": ".py",
   "mimetype": "text/x-python",
   "name": "python",
   "nbconvert_exporter": "python",
   "pygments_lexer": "ipython3",
   "version": "3.6.6"
  }
 },
 "nbformat": 4,
 "nbformat_minor": 1
}
